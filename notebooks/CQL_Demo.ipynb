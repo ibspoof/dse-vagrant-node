{
 "cells": [
  {
   "cell_type": "markdown",
   "metadata": {},
   "source": [
    "### Startup"
   ]
  },
  {
   "cell_type": "markdown",
   "metadata": {},
   "source": [
    "Note: Run each cell by shift-return on a cql block or use 'Cell' menu to Run All\n",
    "\n",
    "1) Create Keyspace"
   ]
  },
  {
   "cell_type": "code",
   "execution_count": null,
   "metadata": {
    "collapsed": false
   },
   "outputs": [],
   "source": [
    "CREATE KEYSPACE cql_demo WITH REPLICATION = { 'class' : 'NetworkTopologyStrategy', 'DC1' : 1 };"
   ]
  },
  {
   "cell_type": "markdown",
   "metadata": {
    "collapsed": true
   },
   "source": [
    "2) Create User Table"
   ]
  },
  {
   "cell_type": "code",
   "execution_count": null,
   "metadata": {
    "collapsed": false
   },
   "outputs": [],
   "source": [
    "CREATE TABLE cql_demo.users (\n",
    "  username text,\n",
    "  first_name text,\n",
    "  last_name text,\n",
    "  PRIMARY KEY (username)\n",
    ");"
   ]
  },
  {
   "cell_type": "markdown",
   "metadata": {},
   "source": [
    "3) Insert Users"
   ]
  },
  {
   "cell_type": "code",
   "execution_count": null,
   "metadata": {
    "collapsed": false
   },
   "outputs": [],
   "source": [
    "INSERT INTO cql_demo.users (username, first_name, last_name) VALUES ('demo_user', 'demo', 'user');\n",
    "INSERT INTO cql_demo.users (username, first_name, last_name) VALUES ('other_user', 'other', 'user');\n",
    "INSERT INTO cql_demo.users (username, first_name, last_name) VALUES ('another_user', 'another', 'user');"
   ]
  },
  {
   "cell_type": "markdown",
   "metadata": {},
   "source": [
    "4) Select Users"
   ]
  },
  {
   "cell_type": "code",
   "execution_count": null,
   "metadata": {
    "collapsed": false
   },
   "outputs": [],
   "source": [
    "SELECT * from cql_demo.users;"
   ]
  }
 ],
 "metadata": {
  "kernelspec": {
   "display_name": "CQL",
   "language": "CQL",
   "name": "cql"
  },
  "language_info": {
   "codemirror_mode": "sql",
   "file_extension": ".cql",
   "mimetype": "text/x-cassandra",
   "name": "CQL"
  }
 },
 "nbformat": 4,
 "nbformat_minor": 0
}
